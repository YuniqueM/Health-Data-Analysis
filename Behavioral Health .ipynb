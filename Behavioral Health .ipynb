{
 "cells": [
  {
   "cell_type": "markdown",
   "id": "b49a4cb0",
   "metadata": {},
   "source": [
    "## Behavioral Health Data Analysis"
   ]
  },
  {
   "cell_type": "markdown",
   "id": "c362c2d0",
   "metadata": {},
   "source": [
    "I am a Data Science Graduate Student looking to provide practical insights to the healthcare industry. My goal is to be able to boost healthcare quality by data-driven decision-making."
   ]
  },
  {
   "cell_type": "markdown",
   "id": "a2c7dd36",
   "metadata": {},
   "source": [
    "This dataset is obtained from The Behavioral Risk Factor Surveillance System, which nationally collects state data about their health-related risk behaviors. This dataset specifically shows data from the 2015 BRFSS Survey."
   ]
  },
  {
   "cell_type": "markdown",
   "id": "bbf11a4b",
   "metadata": {},
   "source": [
    "### Ask"
   ]
  },
  {
   "cell_type": "markdown",
   "id": "30791375",
   "metadata": {},
   "source": [
    "After reading an article entitled, \"Better Care through Understanding the Customer, Not Just the Patient,\" from United Health Group and Optum's Insights page, I was curious and wanted to do some research on factors that may disincentivize persons from visiting the doctor."
   ]
  },
  {
   "cell_type": "markdown",
   "id": "a4da245d",
   "metadata": {},
   "source": [
    "### Task"
   ]
  },
  {
   "cell_type": "markdown",
   "id": "ba7ae1b9",
   "metadata": {},
   "source": [
    "Using the data provided, I am performing an exploratory data analysis that will determine the most important factors that may effect the likelihood that a customer/patient visits the doctor. "
   ]
  },
  {
   "cell_type": "markdown",
   "id": "6afe103c",
   "metadata": {},
   "source": [
    "### Import Libraries"
   ]
  },
  {
   "cell_type": "code",
   "execution_count": 2,
   "id": "5cc95c1c",
   "metadata": {},
   "outputs": [],
   "source": [
    "#import libraries\n",
    "import numpy as np\n",
    "import pandas as pd\n",
    "import matplotlib.pyplot as plt"
   ]
  },
  {
   "cell_type": "code",
   "execution_count": 3,
   "id": "2343f530",
   "metadata": {},
   "outputs": [],
   "source": [
    "fileName = 'BRFSS2015.csv'\n",
    "health1 = pd.read_csv(fileName)"
   ]
  },
  {
   "cell_type": "code",
   "execution_count": 4,
   "id": "ca2f5d59",
   "metadata": {},
   "outputs": [],
   "source": [
    "health=health1.copy()"
   ]
  },
  {
   "cell_type": "code",
   "execution_count": 54,
   "id": "2f13f870",
   "metadata": {},
   "outputs": [
    {
     "data": {
      "text/html": [
       "<div>\n",
       "<style scoped>\n",
       "    .dataframe tbody tr th:only-of-type {\n",
       "        vertical-align: middle;\n",
       "    }\n",
       "\n",
       "    .dataframe tbody tr th {\n",
       "        vertical-align: top;\n",
       "    }\n",
       "\n",
       "    .dataframe thead th {\n",
       "        text-align: right;\n",
       "    }\n",
       "</style>\n",
       "<table border=\"1\" class=\"dataframe\">\n",
       "  <thead>\n",
       "    <tr style=\"text-align: right;\">\n",
       "      <th></th>\n",
       "      <th>_STATE</th>\n",
       "      <th>FMONTH</th>\n",
       "      <th>IDATE</th>\n",
       "      <th>IMONTH</th>\n",
       "      <th>IDAY</th>\n",
       "      <th>IYEAR</th>\n",
       "      <th>DISPCODE</th>\n",
       "      <th>SEQNO</th>\n",
       "      <th>_PSU</th>\n",
       "      <th>CTELENUM</th>\n",
       "      <th>...</th>\n",
       "      <th>_PAREC1</th>\n",
       "      <th>_PASTAE1</th>\n",
       "      <th>_LMTACT1</th>\n",
       "      <th>_LMTWRK1</th>\n",
       "      <th>_LMTSCL1</th>\n",
       "      <th>_RFSEAT2</th>\n",
       "      <th>_RFSEAT3</th>\n",
       "      <th>_FLSHOT6</th>\n",
       "      <th>_PNEUMO2</th>\n",
       "      <th>_AIDTST3</th>\n",
       "    </tr>\n",
       "  </thead>\n",
       "  <tbody>\n",
       "    <tr>\n",
       "      <th>0</th>\n",
       "      <td>1.0</td>\n",
       "      <td>1.0</td>\n",
       "      <td>b'01292015'</td>\n",
       "      <td>b'01'</td>\n",
       "      <td>b'29'</td>\n",
       "      <td>b'2015'</td>\n",
       "      <td>1200.0</td>\n",
       "      <td>2.015000e+09</td>\n",
       "      <td>2.015000e+09</td>\n",
       "      <td>1.0</td>\n",
       "      <td>...</td>\n",
       "      <td>4.0</td>\n",
       "      <td>2.0</td>\n",
       "      <td>1.0</td>\n",
       "      <td>1.0</td>\n",
       "      <td>1.0</td>\n",
       "      <td>1.0</td>\n",
       "      <td>1.0</td>\n",
       "      <td>NaN</td>\n",
       "      <td>NaN</td>\n",
       "      <td>1.0</td>\n",
       "    </tr>\n",
       "    <tr>\n",
       "      <th>1</th>\n",
       "      <td>1.0</td>\n",
       "      <td>1.0</td>\n",
       "      <td>b'01202015'</td>\n",
       "      <td>b'01'</td>\n",
       "      <td>b'20'</td>\n",
       "      <td>b'2015'</td>\n",
       "      <td>1100.0</td>\n",
       "      <td>2.015000e+09</td>\n",
       "      <td>2.015000e+09</td>\n",
       "      <td>1.0</td>\n",
       "      <td>...</td>\n",
       "      <td>2.0</td>\n",
       "      <td>2.0</td>\n",
       "      <td>3.0</td>\n",
       "      <td>3.0</td>\n",
       "      <td>4.0</td>\n",
       "      <td>2.0</td>\n",
       "      <td>2.0</td>\n",
       "      <td>NaN</td>\n",
       "      <td>NaN</td>\n",
       "      <td>2.0</td>\n",
       "    </tr>\n",
       "    <tr>\n",
       "      <th>2</th>\n",
       "      <td>1.0</td>\n",
       "      <td>1.0</td>\n",
       "      <td>b'02012015'</td>\n",
       "      <td>b'02'</td>\n",
       "      <td>b'01'</td>\n",
       "      <td>b'2015'</td>\n",
       "      <td>1200.0</td>\n",
       "      <td>2.015000e+09</td>\n",
       "      <td>2.015000e+09</td>\n",
       "      <td>1.0</td>\n",
       "      <td>...</td>\n",
       "      <td>9.0</td>\n",
       "      <td>9.0</td>\n",
       "      <td>9.0</td>\n",
       "      <td>9.0</td>\n",
       "      <td>9.0</td>\n",
       "      <td>9.0</td>\n",
       "      <td>9.0</td>\n",
       "      <td>9.0</td>\n",
       "      <td>9.0</td>\n",
       "      <td>NaN</td>\n",
       "    </tr>\n",
       "    <tr>\n",
       "      <th>3</th>\n",
       "      <td>1.0</td>\n",
       "      <td>1.0</td>\n",
       "      <td>b'01142015'</td>\n",
       "      <td>b'01'</td>\n",
       "      <td>b'14'</td>\n",
       "      <td>b'2015'</td>\n",
       "      <td>1100.0</td>\n",
       "      <td>2.015000e+09</td>\n",
       "      <td>2.015000e+09</td>\n",
       "      <td>1.0</td>\n",
       "      <td>...</td>\n",
       "      <td>4.0</td>\n",
       "      <td>2.0</td>\n",
       "      <td>1.0</td>\n",
       "      <td>1.0</td>\n",
       "      <td>1.0</td>\n",
       "      <td>1.0</td>\n",
       "      <td>1.0</td>\n",
       "      <td>NaN</td>\n",
       "      <td>NaN</td>\n",
       "      <td>9.0</td>\n",
       "    </tr>\n",
       "    <tr>\n",
       "      <th>4</th>\n",
       "      <td>1.0</td>\n",
       "      <td>1.0</td>\n",
       "      <td>b'01142015'</td>\n",
       "      <td>b'01'</td>\n",
       "      <td>b'14'</td>\n",
       "      <td>b'2015'</td>\n",
       "      <td>1100.0</td>\n",
       "      <td>2.015000e+09</td>\n",
       "      <td>2.015000e+09</td>\n",
       "      <td>1.0</td>\n",
       "      <td>...</td>\n",
       "      <td>4.0</td>\n",
       "      <td>2.0</td>\n",
       "      <td>1.0</td>\n",
       "      <td>1.0</td>\n",
       "      <td>1.0</td>\n",
       "      <td>1.0</td>\n",
       "      <td>1.0</td>\n",
       "      <td>NaN</td>\n",
       "      <td>NaN</td>\n",
       "      <td>1.0</td>\n",
       "    </tr>\n",
       "  </tbody>\n",
       "</table>\n",
       "<p>5 rows × 330 columns</p>\n",
       "</div>"
      ],
      "text/plain": [
       "   _STATE  FMONTH        IDATE IMONTH   IDAY    IYEAR  DISPCODE         SEQNO  \\\n",
       "0     1.0     1.0  b'01292015'  b'01'  b'29'  b'2015'    1200.0  2.015000e+09   \n",
       "1     1.0     1.0  b'01202015'  b'01'  b'20'  b'2015'    1100.0  2.015000e+09   \n",
       "2     1.0     1.0  b'02012015'  b'02'  b'01'  b'2015'    1200.0  2.015000e+09   \n",
       "3     1.0     1.0  b'01142015'  b'01'  b'14'  b'2015'    1100.0  2.015000e+09   \n",
       "4     1.0     1.0  b'01142015'  b'01'  b'14'  b'2015'    1100.0  2.015000e+09   \n",
       "\n",
       "           _PSU  CTELENUM  ...  _PAREC1  _PASTAE1  _LMTACT1  _LMTWRK1  \\\n",
       "0  2.015000e+09       1.0  ...      4.0       2.0       1.0       1.0   \n",
       "1  2.015000e+09       1.0  ...      2.0       2.0       3.0       3.0   \n",
       "2  2.015000e+09       1.0  ...      9.0       9.0       9.0       9.0   \n",
       "3  2.015000e+09       1.0  ...      4.0       2.0       1.0       1.0   \n",
       "4  2.015000e+09       1.0  ...      4.0       2.0       1.0       1.0   \n",
       "\n",
       "   _LMTSCL1  _RFSEAT2  _RFSEAT3  _FLSHOT6  _PNEUMO2  _AIDTST3  \n",
       "0       1.0       1.0       1.0       NaN       NaN       1.0  \n",
       "1       4.0       2.0       2.0       NaN       NaN       2.0  \n",
       "2       9.0       9.0       9.0       9.0       9.0       NaN  \n",
       "3       1.0       1.0       1.0       NaN       NaN       9.0  \n",
       "4       1.0       1.0       1.0       NaN       NaN       1.0  \n",
       "\n",
       "[5 rows x 330 columns]"
      ]
     },
     "execution_count": 54,
     "metadata": {},
     "output_type": "execute_result"
    }
   ],
   "source": [
    "#view data\n",
    "health.head()"
   ]
  },
  {
   "cell_type": "code",
   "execution_count": 6,
   "id": "32dec574",
   "metadata": {},
   "outputs": [
    {
     "data": {
      "text/plain": [
       "(441456, 330)"
      ]
     },
     "execution_count": 6,
     "metadata": {},
     "output_type": "execute_result"
    }
   ],
   "source": [
    "health.shape\n",
    "#how many rows and attributes"
   ]
  },
  {
   "cell_type": "code",
   "execution_count": 7,
   "id": "54752536",
   "metadata": {},
   "outputs": [
    {
     "name": "stdout",
     "output_type": "stream",
     "text": [
      "<class 'pandas.core.frame.DataFrame'>\n",
      "RangeIndex: 441456 entries, 0 to 441455\n",
      "Columns: 330 entries, _STATE to _AIDTST3\n",
      "dtypes: float64(323), object(7)\n",
      "memory usage: 1.1+ GB\n"
     ]
    }
   ],
   "source": [
    "health.info()\n",
    "#almost all of the values are numerical\n",
    "#codebook is used"
   ]
  },
  {
   "cell_type": "code",
   "execution_count": 8,
   "id": "9e9fed23",
   "metadata": {},
   "outputs": [
    {
     "data": {
      "text/html": [
       "<div>\n",
       "<style scoped>\n",
       "    .dataframe tbody tr th:only-of-type {\n",
       "        vertical-align: middle;\n",
       "    }\n",
       "\n",
       "    .dataframe tbody tr th {\n",
       "        vertical-align: top;\n",
       "    }\n",
       "\n",
       "    .dataframe thead th {\n",
       "        text-align: right;\n",
       "    }\n",
       "</style>\n",
       "<table border=\"1\" class=\"dataframe\">\n",
       "  <thead>\n",
       "    <tr style=\"text-align: right;\">\n",
       "      <th></th>\n",
       "      <th>_STATE</th>\n",
       "      <th>FMONTH</th>\n",
       "      <th>DISPCODE</th>\n",
       "      <th>SEQNO</th>\n",
       "      <th>_PSU</th>\n",
       "      <th>CTELENUM</th>\n",
       "      <th>PVTRESD1</th>\n",
       "      <th>COLGHOUS</th>\n",
       "      <th>STATERES</th>\n",
       "      <th>CELLFON3</th>\n",
       "      <th>...</th>\n",
       "      <th>_PAREC1</th>\n",
       "      <th>_PASTAE1</th>\n",
       "      <th>_LMTACT1</th>\n",
       "      <th>_LMTWRK1</th>\n",
       "      <th>_LMTSCL1</th>\n",
       "      <th>_RFSEAT2</th>\n",
       "      <th>_RFSEAT3</th>\n",
       "      <th>_FLSHOT6</th>\n",
       "      <th>_PNEUMO2</th>\n",
       "      <th>_AIDTST3</th>\n",
       "    </tr>\n",
       "  </thead>\n",
       "  <tbody>\n",
       "    <tr>\n",
       "      <th>count</th>\n",
       "      <td>441456.000000</td>\n",
       "      <td>441456.000000</td>\n",
       "      <td>441456.000000</td>\n",
       "      <td>4.414560e+05</td>\n",
       "      <td>4.414560e+05</td>\n",
       "      <td>254645.0</td>\n",
       "      <td>254645.000000</td>\n",
       "      <td>45.0</td>\n",
       "      <td>254643.0</td>\n",
       "      <td>254646.000000</td>\n",
       "      <td>...</td>\n",
       "      <td>441456.000000</td>\n",
       "      <td>441456.000000</td>\n",
       "      <td>438657.000000</td>\n",
       "      <td>438657.000000</td>\n",
       "      <td>438657.000000</td>\n",
       "      <td>441456.000000</td>\n",
       "      <td>441456.000000</td>\n",
       "      <td>157954.000000</td>\n",
       "      <td>157954.000000</td>\n",
       "      <td>398069.000000</td>\n",
       "    </tr>\n",
       "    <tr>\n",
       "      <th>mean</th>\n",
       "      <td>29.968715</td>\n",
       "      <td>6.359676</td>\n",
       "      <td>1115.040457</td>\n",
       "      <td>2.015005e+09</td>\n",
       "      <td>2.015005e+09</td>\n",
       "      <td>1.0</td>\n",
       "      <td>1.000177</td>\n",
       "      <td>1.0</td>\n",
       "      <td>1.0</td>\n",
       "      <td>1.545133</td>\n",
       "      <td>...</td>\n",
       "      <td>3.494124</td>\n",
       "      <td>2.742695</td>\n",
       "      <td>2.716879</td>\n",
       "      <td>2.815149</td>\n",
       "      <td>3.652717</td>\n",
       "      <td>1.824624</td>\n",
       "      <td>1.887028</td>\n",
       "      <td>2.290705</td>\n",
       "      <td>2.412259</td>\n",
       "      <td>1.970156</td>\n",
       "    </tr>\n",
       "    <tr>\n",
       "      <th>std</th>\n",
       "      <td>16.034710</td>\n",
       "      <td>3.487131</td>\n",
       "      <td>35.746794</td>\n",
       "      <td>4.113443e+03</td>\n",
       "      <td>4.113443e+03</td>\n",
       "      <td>0.0</td>\n",
       "      <td>0.013292</td>\n",
       "      <td>0.0</td>\n",
       "      <td>0.0</td>\n",
       "      <td>0.497960</td>\n",
       "      <td>...</td>\n",
       "      <td>2.398322</td>\n",
       "      <td>2.449676</td>\n",
       "      <td>1.324145</td>\n",
       "      <td>1.356101</td>\n",
       "      <td>1.266730</td>\n",
       "      <td>2.360812</td>\n",
       "      <td>2.351387</td>\n",
       "      <td>2.518086</td>\n",
       "      <td>2.778032</td>\n",
       "      <td>1.441119</td>\n",
       "    </tr>\n",
       "    <tr>\n",
       "      <th>min</th>\n",
       "      <td>1.000000</td>\n",
       "      <td>1.000000</td>\n",
       "      <td>1100.000000</td>\n",
       "      <td>2.015000e+09</td>\n",
       "      <td>2.015000e+09</td>\n",
       "      <td>1.0</td>\n",
       "      <td>1.000000</td>\n",
       "      <td>1.0</td>\n",
       "      <td>1.0</td>\n",
       "      <td>1.000000</td>\n",
       "      <td>...</td>\n",
       "      <td>1.000000</td>\n",
       "      <td>1.000000</td>\n",
       "      <td>1.000000</td>\n",
       "      <td>1.000000</td>\n",
       "      <td>1.000000</td>\n",
       "      <td>1.000000</td>\n",
       "      <td>1.000000</td>\n",
       "      <td>1.000000</td>\n",
       "      <td>1.000000</td>\n",
       "      <td>1.000000</td>\n",
       "    </tr>\n",
       "    <tr>\n",
       "      <th>25%</th>\n",
       "      <td>19.000000</td>\n",
       "      <td>3.000000</td>\n",
       "      <td>1100.000000</td>\n",
       "      <td>2.015002e+09</td>\n",
       "      <td>2.015002e+09</td>\n",
       "      <td>1.0</td>\n",
       "      <td>1.000000</td>\n",
       "      <td>1.0</td>\n",
       "      <td>1.0</td>\n",
       "      <td>1.000000</td>\n",
       "      <td>...</td>\n",
       "      <td>2.000000</td>\n",
       "      <td>2.000000</td>\n",
       "      <td>2.000000</td>\n",
       "      <td>2.000000</td>\n",
       "      <td>3.000000</td>\n",
       "      <td>1.000000</td>\n",
       "      <td>1.000000</td>\n",
       "      <td>1.000000</td>\n",
       "      <td>1.000000</td>\n",
       "      <td>1.000000</td>\n",
       "    </tr>\n",
       "    <tr>\n",
       "      <th>50%</th>\n",
       "      <td>29.000000</td>\n",
       "      <td>6.000000</td>\n",
       "      <td>1100.000000</td>\n",
       "      <td>2.015004e+09</td>\n",
       "      <td>2.015004e+09</td>\n",
       "      <td>1.0</td>\n",
       "      <td>1.000000</td>\n",
       "      <td>1.0</td>\n",
       "      <td>1.0</td>\n",
       "      <td>2.000000</td>\n",
       "      <td>...</td>\n",
       "      <td>3.000000</td>\n",
       "      <td>2.000000</td>\n",
       "      <td>3.000000</td>\n",
       "      <td>3.000000</td>\n",
       "      <td>4.000000</td>\n",
       "      <td>1.000000</td>\n",
       "      <td>1.000000</td>\n",
       "      <td>1.000000</td>\n",
       "      <td>1.000000</td>\n",
       "      <td>2.000000</td>\n",
       "    </tr>\n",
       "    <tr>\n",
       "      <th>75%</th>\n",
       "      <td>44.000000</td>\n",
       "      <td>9.000000</td>\n",
       "      <td>1100.000000</td>\n",
       "      <td>2.015007e+09</td>\n",
       "      <td>2.015007e+09</td>\n",
       "      <td>1.0</td>\n",
       "      <td>1.000000</td>\n",
       "      <td>1.0</td>\n",
       "      <td>1.0</td>\n",
       "      <td>2.000000</td>\n",
       "      <td>...</td>\n",
       "      <td>4.000000</td>\n",
       "      <td>2.000000</td>\n",
       "      <td>3.000000</td>\n",
       "      <td>3.000000</td>\n",
       "      <td>4.000000</td>\n",
       "      <td>1.000000</td>\n",
       "      <td>1.000000</td>\n",
       "      <td>2.000000</td>\n",
       "      <td>2.000000</td>\n",
       "      <td>2.000000</td>\n",
       "    </tr>\n",
       "    <tr>\n",
       "      <th>max</th>\n",
       "      <td>72.000000</td>\n",
       "      <td>12.000000</td>\n",
       "      <td>1200.000000</td>\n",
       "      <td>2.015023e+09</td>\n",
       "      <td>2.015023e+09</td>\n",
       "      <td>1.0</td>\n",
       "      <td>2.000000</td>\n",
       "      <td>1.0</td>\n",
       "      <td>1.0</td>\n",
       "      <td>2.000000</td>\n",
       "      <td>...</td>\n",
       "      <td>9.000000</td>\n",
       "      <td>9.000000</td>\n",
       "      <td>9.000000</td>\n",
       "      <td>9.000000</td>\n",
       "      <td>9.000000</td>\n",
       "      <td>9.000000</td>\n",
       "      <td>9.000000</td>\n",
       "      <td>9.000000</td>\n",
       "      <td>9.000000</td>\n",
       "      <td>9.000000</td>\n",
       "    </tr>\n",
       "  </tbody>\n",
       "</table>\n",
       "<p>8 rows × 323 columns</p>\n",
       "</div>"
      ],
      "text/plain": [
       "              _STATE         FMONTH       DISPCODE         SEQNO  \\\n",
       "count  441456.000000  441456.000000  441456.000000  4.414560e+05   \n",
       "mean       29.968715       6.359676    1115.040457  2.015005e+09   \n",
       "std        16.034710       3.487131      35.746794  4.113443e+03   \n",
       "min         1.000000       1.000000    1100.000000  2.015000e+09   \n",
       "25%        19.000000       3.000000    1100.000000  2.015002e+09   \n",
       "50%        29.000000       6.000000    1100.000000  2.015004e+09   \n",
       "75%        44.000000       9.000000    1100.000000  2.015007e+09   \n",
       "max        72.000000      12.000000    1200.000000  2.015023e+09   \n",
       "\n",
       "               _PSU  CTELENUM       PVTRESD1  COLGHOUS  STATERES  \\\n",
       "count  4.414560e+05  254645.0  254645.000000      45.0  254643.0   \n",
       "mean   2.015005e+09       1.0       1.000177       1.0       1.0   \n",
       "std    4.113443e+03       0.0       0.013292       0.0       0.0   \n",
       "min    2.015000e+09       1.0       1.000000       1.0       1.0   \n",
       "25%    2.015002e+09       1.0       1.000000       1.0       1.0   \n",
       "50%    2.015004e+09       1.0       1.000000       1.0       1.0   \n",
       "75%    2.015007e+09       1.0       1.000000       1.0       1.0   \n",
       "max    2.015023e+09       1.0       2.000000       1.0       1.0   \n",
       "\n",
       "            CELLFON3  ...        _PAREC1       _PASTAE1       _LMTACT1  \\\n",
       "count  254646.000000  ...  441456.000000  441456.000000  438657.000000   \n",
       "mean        1.545133  ...       3.494124       2.742695       2.716879   \n",
       "std         0.497960  ...       2.398322       2.449676       1.324145   \n",
       "min         1.000000  ...       1.000000       1.000000       1.000000   \n",
       "25%         1.000000  ...       2.000000       2.000000       2.000000   \n",
       "50%         2.000000  ...       3.000000       2.000000       3.000000   \n",
       "75%         2.000000  ...       4.000000       2.000000       3.000000   \n",
       "max         2.000000  ...       9.000000       9.000000       9.000000   \n",
       "\n",
       "            _LMTWRK1       _LMTSCL1       _RFSEAT2       _RFSEAT3  \\\n",
       "count  438657.000000  438657.000000  441456.000000  441456.000000   \n",
       "mean        2.815149       3.652717       1.824624       1.887028   \n",
       "std         1.356101       1.266730       2.360812       2.351387   \n",
       "min         1.000000       1.000000       1.000000       1.000000   \n",
       "25%         2.000000       3.000000       1.000000       1.000000   \n",
       "50%         3.000000       4.000000       1.000000       1.000000   \n",
       "75%         3.000000       4.000000       1.000000       1.000000   \n",
       "max         9.000000       9.000000       9.000000       9.000000   \n",
       "\n",
       "            _FLSHOT6       _PNEUMO2       _AIDTST3  \n",
       "count  157954.000000  157954.000000  398069.000000  \n",
       "mean        2.290705       2.412259       1.970156  \n",
       "std         2.518086       2.778032       1.441119  \n",
       "min         1.000000       1.000000       1.000000  \n",
       "25%         1.000000       1.000000       1.000000  \n",
       "50%         1.000000       1.000000       2.000000  \n",
       "75%         2.000000       2.000000       2.000000  \n",
       "max         9.000000       9.000000       9.000000  \n",
       "\n",
       "[8 rows x 323 columns]"
      ]
     },
     "execution_count": 8,
     "metadata": {},
     "output_type": "execute_result"
    }
   ],
   "source": [
    "health.describe()"
   ]
  },
  {
   "cell_type": "markdown",
   "id": "99c8ba23",
   "metadata": {},
   "source": [
    "### Data Exploration Questions"
   ]
  },
  {
   "cell_type": "markdown",
   "id": "f4e03ede",
   "metadata": {},
   "source": [
    "1. Which State had the most amount of people without healthcare?"
   ]
  },
  {
   "cell_type": "code",
   "execution_count": 44,
   "id": "6e2556d7",
   "metadata": {},
   "outputs": [
    {
     "data": {
      "text/plain": [
       "_STATE\n",
       "48.0    2125\n",
       "20.0    2027\n",
       "31.0    1367\n",
       "6.0     1241\n",
       "8.0     1139\n",
       "Name: 2.0, dtype: int64"
      ]
     },
     "execution_count": 44,
     "metadata": {},
     "output_type": "execute_result"
    }
   ],
   "source": [
    "by_state = health.groupby(['_STATE'])['HLTHPLN1'].value_counts().unstack()\n",
    "by_state[by_state[2.0] == by_state[2.0].max()]\n",
    "#state 48 which is Texas\n",
    "\n",
    "#even further, the top 5 states that have the most people without healthcare\n",
    "#texas, kansas, nebraska, california, and colorado\n",
    "by_state[2.0].nlargest(5)"
   ]
  },
  {
   "cell_type": "markdown",
   "id": "e1b81221",
   "metadata": {},
   "source": [
    "2.What is the percentage of people in Texas who did not see a doctor because of cost?"
   ]
  },
  {
   "cell_type": "code",
   "execution_count": 151,
   "id": "cc365726",
   "metadata": {},
   "outputs": [
    {
     "data": {
      "text/plain": [
       "0.14152548139076002"
      ]
     },
     "execution_count": 151,
     "metadata": {},
     "output_type": "execute_result"
    }
   ],
   "source": [
    "len(health[(health['_STATE'] == 48) & (health['MEDCOST'] == 1)]) /len(health[(health['_STATE'] == 48)])\n",
    "#14%"
   ]
  },
  {
   "cell_type": "markdown",
   "id": "b7cf102a",
   "metadata": {},
   "source": [
    "3. What percentage of people without healthcare, have had days where there mental health was not good?"
   ]
  },
  {
   "cell_type": "code",
   "execution_count": 156,
   "id": "ed38e73a",
   "metadata": {},
   "outputs": [
    {
     "data": {
      "text/plain": [
       "0.3680286961946351"
      ]
     },
     "execution_count": 156,
     "metadata": {},
     "output_type": "execute_result"
    }
   ],
   "source": [
    "len(health[(health['HLTHPLN1'] == 2) & (health['MENTHLTH'] <= 30)]) / len(health[health['HLTHPLN1'] == 2])"
   ]
  },
  {
   "cell_type": "markdown",
   "id": "0cdf449a",
   "metadata": {},
   "source": [
    "About 37%"
   ]
  },
  {
   "cell_type": "markdown",
   "id": "b93e3b83",
   "metadata": {},
   "source": [
    "### Taking a Look into Socioeconomic Factors"
   ]
  },
  {
   "cell_type": "code",
   "execution_count": 7,
   "id": "4976953b",
   "metadata": {},
   "outputs": [
    {
     "data": {
      "text/html": [
       "<div>\n",
       "<style scoped>\n",
       "    .dataframe tbody tr th:only-of-type {\n",
       "        vertical-align: middle;\n",
       "    }\n",
       "\n",
       "    .dataframe tbody tr th {\n",
       "        vertical-align: top;\n",
       "    }\n",
       "\n",
       "    .dataframe thead th {\n",
       "        text-align: right;\n",
       "    }\n",
       "</style>\n",
       "<table border=\"1\" class=\"dataframe\">\n",
       "  <thead>\n",
       "    <tr style=\"text-align: right;\">\n",
       "      <th></th>\n",
       "      <th>_STATE</th>\n",
       "      <th>CHILDREN</th>\n",
       "      <th>HLTHPLN1</th>\n",
       "      <th>MENTHLTH</th>\n",
       "      <th>CHECKUP1</th>\n",
       "      <th>SCNTWRK1</th>\n",
       "      <th>MEDCOST</th>\n",
       "    </tr>\n",
       "  </thead>\n",
       "  <tbody>\n",
       "    <tr>\n",
       "      <th>0</th>\n",
       "      <td>1.0</td>\n",
       "      <td>88.0</td>\n",
       "      <td>1.0</td>\n",
       "      <td>18.0</td>\n",
       "      <td>1.0</td>\n",
       "      <td>NaN</td>\n",
       "      <td>2.0</td>\n",
       "    </tr>\n",
       "    <tr>\n",
       "      <th>1</th>\n",
       "      <td>1.0</td>\n",
       "      <td>88.0</td>\n",
       "      <td>2.0</td>\n",
       "      <td>88.0</td>\n",
       "      <td>4.0</td>\n",
       "      <td>NaN</td>\n",
       "      <td>1.0</td>\n",
       "    </tr>\n",
       "    <tr>\n",
       "      <th>2</th>\n",
       "      <td>1.0</td>\n",
       "      <td>88.0</td>\n",
       "      <td>1.0</td>\n",
       "      <td>88.0</td>\n",
       "      <td>1.0</td>\n",
       "      <td>NaN</td>\n",
       "      <td>2.0</td>\n",
       "    </tr>\n",
       "    <tr>\n",
       "      <th>3</th>\n",
       "      <td>1.0</td>\n",
       "      <td>1.0</td>\n",
       "      <td>1.0</td>\n",
       "      <td>30.0</td>\n",
       "      <td>1.0</td>\n",
       "      <td>NaN</td>\n",
       "      <td>1.0</td>\n",
       "    </tr>\n",
       "    <tr>\n",
       "      <th>4</th>\n",
       "      <td>1.0</td>\n",
       "      <td>88.0</td>\n",
       "      <td>1.0</td>\n",
       "      <td>88.0</td>\n",
       "      <td>1.0</td>\n",
       "      <td>NaN</td>\n",
       "      <td>2.0</td>\n",
       "    </tr>\n",
       "    <tr>\n",
       "      <th>...</th>\n",
       "      <td>...</td>\n",
       "      <td>...</td>\n",
       "      <td>...</td>\n",
       "      <td>...</td>\n",
       "      <td>...</td>\n",
       "      <td>...</td>\n",
       "      <td>...</td>\n",
       "    </tr>\n",
       "    <tr>\n",
       "      <th>441451</th>\n",
       "      <td>72.0</td>\n",
       "      <td>88.0</td>\n",
       "      <td>1.0</td>\n",
       "      <td>88.0</td>\n",
       "      <td>1.0</td>\n",
       "      <td>NaN</td>\n",
       "      <td>2.0</td>\n",
       "    </tr>\n",
       "    <tr>\n",
       "      <th>441452</th>\n",
       "      <td>72.0</td>\n",
       "      <td>1.0</td>\n",
       "      <td>1.0</td>\n",
       "      <td>88.0</td>\n",
       "      <td>1.0</td>\n",
       "      <td>NaN</td>\n",
       "      <td>2.0</td>\n",
       "    </tr>\n",
       "    <tr>\n",
       "      <th>441453</th>\n",
       "      <td>72.0</td>\n",
       "      <td>88.0</td>\n",
       "      <td>1.0</td>\n",
       "      <td>20.0</td>\n",
       "      <td>1.0</td>\n",
       "      <td>NaN</td>\n",
       "      <td>2.0</td>\n",
       "    </tr>\n",
       "    <tr>\n",
       "      <th>441454</th>\n",
       "      <td>72.0</td>\n",
       "      <td>88.0</td>\n",
       "      <td>1.0</td>\n",
       "      <td>88.0</td>\n",
       "      <td>1.0</td>\n",
       "      <td>NaN</td>\n",
       "      <td>2.0</td>\n",
       "    </tr>\n",
       "    <tr>\n",
       "      <th>441455</th>\n",
       "      <td>72.0</td>\n",
       "      <td>88.0</td>\n",
       "      <td>1.0</td>\n",
       "      <td>88.0</td>\n",
       "      <td>1.0</td>\n",
       "      <td>NaN</td>\n",
       "      <td>2.0</td>\n",
       "    </tr>\n",
       "  </tbody>\n",
       "</table>\n",
       "<p>441456 rows × 7 columns</p>\n",
       "</div>"
      ],
      "text/plain": [
       "        _STATE  CHILDREN  HLTHPLN1  MENTHLTH  CHECKUP1  SCNTWRK1  MEDCOST\n",
       "0          1.0      88.0       1.0      18.0       1.0       NaN      2.0\n",
       "1          1.0      88.0       2.0      88.0       4.0       NaN      1.0\n",
       "2          1.0      88.0       1.0      88.0       1.0       NaN      2.0\n",
       "3          1.0       1.0       1.0      30.0       1.0       NaN      1.0\n",
       "4          1.0      88.0       1.0      88.0       1.0       NaN      2.0\n",
       "...        ...       ...       ...       ...       ...       ...      ...\n",
       "441451    72.0      88.0       1.0      88.0       1.0       NaN      2.0\n",
       "441452    72.0       1.0       1.0      88.0       1.0       NaN      2.0\n",
       "441453    72.0      88.0       1.0      20.0       1.0       NaN      2.0\n",
       "441454    72.0      88.0       1.0      88.0       1.0       NaN      2.0\n",
       "441455    72.0      88.0       1.0      88.0       1.0       NaN      2.0\n",
       "\n",
       "[441456 rows x 7 columns]"
      ]
     },
     "execution_count": 7,
     "metadata": {},
     "output_type": "execute_result"
    }
   ],
   "source": [
    "#creating a new small dataset only with the attributes I will be using\n",
    "health_small = health[['_STATE', 'CHILDREN', 'HLTHPLN1', 'MENTHLTH', 'CHECKUP1', 'SCNTWRK1',\n",
    "                      'MEDCOST']]\n",
    "health_small"
   ]
  },
  {
   "cell_type": "code",
   "execution_count": 122,
   "id": "4dbd461f",
   "metadata": {},
   "outputs": [
    {
     "data": {
      "text/plain": [
       "88.0    324000\n",
       "1.0      46376\n",
       "2.0      40614\n",
       "3.0      17313\n",
       "4.0       6371\n",
       "99.0      3632\n",
       "5.0       1997\n",
       "6.0        716\n",
       "7.0        241\n",
       "8.0         96\n",
       "9.0         39\n",
       "10.0        24\n",
       "12.0        10\n",
       "11.0         3\n",
       "13.0         3\n",
       "32.0         2\n",
       "20.0         2\n",
       "23.0         2\n",
       "22.0         2\n",
       "15.0         2\n",
       "14.0         1\n",
       "52.0         1\n",
       "41.0         1\n",
       "18.0         1\n",
       "77.0         1\n",
       "17.0         1\n",
       "Name: CHILDREN, dtype: int64"
      ]
     },
     "execution_count": 122,
     "metadata": {},
     "output_type": "execute_result"
    }
   ],
   "source": [
    "health_small['CHILDREN'].value_counts()"
   ]
  },
  {
   "cell_type": "markdown",
   "id": "72989158",
   "metadata": {},
   "source": [
    "To simplify my analysis on the effect the amount of children have on the likelihood of a doctor visit for a checkup, I want to bin the amounts."
   ]
  },
  {
   "cell_type": "code",
   "execution_count": 8,
   "id": "b9a3411f",
   "metadata": {},
   "outputs": [
    {
     "name": "stderr",
     "output_type": "stream",
     "text": [
      "/var/folders/9z/dg9j4kys3r9d8tlf0jz5n_w80000gn/T/ipykernel_1188/270854979.py:3: SettingWithCopyWarning: \n",
      "A value is trying to be set on a copy of a slice from a DataFrame.\n",
      "Try using .loc[row_indexer,col_indexer] = value instead\n",
      "\n",
      "See the caveats in the documentation: https://pandas.pydata.org/pandas-docs/stable/user_guide/indexing.html#returning-a-view-versus-a-copy\n",
      "  health_small['CHILD_BINS'] = pd.cut(health_small['CHILDREN'], bins, labels = ['2 or less', '3-5',\n"
     ]
    }
   ],
   "source": [
    "#setup bins\n",
    "bins = [0, 2, 4, 6, 9, 76, 100]\n",
    "health_small['CHILD_BINS'] = pd.cut(health_small['CHILDREN'], bins, labels = ['2 or less', '3-5',\n",
    "                                                                              '6-9', '10-12', '13+',\n",
    "                                                                              'unknown'])"
   ]
  },
  {
   "cell_type": "code",
   "execution_count": 124,
   "id": "9aa9b86d",
   "metadata": {},
   "outputs": [
    {
     "data": {
      "text/plain": [
       "unknown      327633\n",
       "2 or less     86990\n",
       "3-5           23684\n",
       "6-9            2713\n",
       "10-12           376\n",
       "13+              55\n",
       "Name: CHILD_BINS, dtype: int64"
      ]
     },
     "execution_count": 124,
     "metadata": {},
     "output_type": "execute_result"
    }
   ],
   "source": [
    "#checking children value_counts()\n",
    "health_small['CHILD_BINS'].value_counts()\n",
    "#remember, ( is open(not included) and ] is closed(inclusive)"
   ]
  },
  {
   "cell_type": "markdown",
   "id": "fbe912ac",
   "metadata": {},
   "source": [
    "The attribute 'CHECKUP1' reveals \"About how long has it been since you last visited a doctor for a routine checkup?\"\n",
    "Now that it is binned by the number of children in a household, we can see that as the number of children increase, the less likely a person is to visit the doctor with 1 year's time."
   ]
  },
  {
   "cell_type": "markdown",
   "id": "5790feb1",
   "metadata": {},
   "source": [
    "We can see that about 66% of people with 2 or less children have visited the doctor within the last year; while 61% of people with 3-5 children have visited within the last year.\n",
    "56% For households with 6-9 children and 50% for households with 10-12 children. "
   ]
  },
  {
   "cell_type": "code",
   "execution_count": 37,
   "id": "80e41b3a",
   "metadata": {},
   "outputs": [
    {
     "data": {
      "text/plain": [
       "CHILD_BINS  CHECKUP1\n",
       "2 or less   1.0         0.663341\n",
       "            2.0         0.149017\n",
       "            3.0         0.088206\n",
       "            4.0         0.076331\n",
       "            7.0         0.011898\n",
       "            8.0         0.010300\n",
       "            9.0         0.000908\n",
       "3-5         1.0         0.612101\n",
       "            2.0         0.160108\n",
       "            3.0         0.104205\n",
       "            4.0         0.092932\n",
       "            8.0         0.015200\n",
       "            7.0         0.014525\n",
       "            9.0         0.000929\n",
       "6-9         1.0         0.561740\n",
       "            2.0         0.162551\n",
       "            3.0         0.128640\n",
       "            4.0         0.109473\n",
       "            8.0         0.021010\n",
       "            7.0         0.015112\n",
       "            9.0         0.001474\n",
       "10-12       1.0         0.502660\n",
       "            3.0         0.143617\n",
       "            4.0         0.132979\n",
       "            2.0         0.127660\n",
       "            8.0         0.055851\n",
       "            7.0         0.037234\n",
       "13+         1.0         0.600000\n",
       "            4.0         0.218182\n",
       "            2.0         0.109091\n",
       "            3.0         0.072727\n",
       "unknown     1.0         0.767575\n",
       "            2.0         0.101571\n",
       "            3.0         0.055007\n",
       "            4.0         0.054229\n",
       "            7.0         0.012264\n",
       "            8.0         0.007658\n",
       "            9.0         0.001697\n",
       "Name: CHECKUP1, dtype: float64"
      ]
     },
     "execution_count": 37,
     "metadata": {},
     "output_type": "execute_result"
    }
   ],
   "source": [
    "health_small.groupby('CHILD_BINS').CHECKUP1.value_counts(normalize=True)"
   ]
  },
  {
   "cell_type": "markdown",
   "id": "8fd39932",
   "metadata": {},
   "source": [
    "I will do some similar binning for the amount of hours that a person works a week."
   ]
  },
  {
   "cell_type": "code",
   "execution_count": 136,
   "id": "a1c2ab6c",
   "metadata": {},
   "outputs": [
    {
     "data": {
      "text/plain": [
       "40.0    11045\n",
       "50.0     4490\n",
       "45.0     2499\n",
       "60.0     2426\n",
       "30.0     1656\n",
       "        ...  \n",
       "73.0        1\n",
       "89.0        1\n",
       "81.0        1\n",
       "59.0        1\n",
       "93.0        1\n",
       "Name: SCNTWRK1, Length: 96, dtype: int64"
      ]
     },
     "execution_count": 136,
     "metadata": {},
     "output_type": "execute_result"
    }
   ],
   "source": [
    "health_small['SCNTWRK1'].value_counts()"
   ]
  },
  {
   "cell_type": "code",
   "execution_count": 9,
   "id": "18d752f8",
   "metadata": {},
   "outputs": [
    {
     "name": "stderr",
     "output_type": "stream",
     "text": [
      "/var/folders/9z/dg9j4kys3r9d8tlf0jz5n_w80000gn/T/ipykernel_1188/3742697297.py:3: SettingWithCopyWarning: \n",
      "A value is trying to be set on a copy of a slice from a DataFrame.\n",
      "Try using .loc[row_indexer,col_indexer] = value instead\n",
      "\n",
      "See the caveats in the documentation: https://pandas.pydata.org/pandas-docs/stable/user_guide/indexing.html#returning-a-view-versus-a-copy\n",
      "  health_small['WORKED_HRS'] = pd.cut(health_small['SCNTWRK1'], bins2, labels = ['20 or less', '21-40',\n"
     ]
    }
   ],
   "source": [
    "#setup bins\n",
    "bins2 = [0, 20, 40, 60, 96, 100]\n",
    "health_small['WORKED_HRS'] = pd.cut(health_small['SCNTWRK1'], bins2, labels = ['20 or less', '21-40',\n",
    "                                                                               '41-60','61 +','unknown'])"
   ]
  },
  {
   "cell_type": "code",
   "execution_count": 158,
   "id": "ae4fdcca",
   "metadata": {},
   "outputs": [
    {
     "data": {
      "text/plain": [
       "21-40         16834\n",
       "41-60         11923\n",
       "20 or less     2961\n",
       "61 +           2072\n",
       "unknown         944\n",
       "Name: WORKED_HRS, dtype: int64"
      ]
     },
     "execution_count": 158,
     "metadata": {},
     "output_type": "execute_result"
    }
   ],
   "source": [
    "health_small['WORKED_HRS'].value_counts()"
   ]
  },
  {
   "cell_type": "markdown",
   "id": "6e302523",
   "metadata": {},
   "source": [
    "The data below shows that someone who works 20 or less hours a week is more likely to go to the doctor within a year's time than someone who works more than 21-40 hours. \n",
    "Those working 21-40 hours are more likely to visit the doctor more than those working 41-60 hours a week. "
   ]
  },
  {
   "cell_type": "code",
   "execution_count": 162,
   "id": "7a68cfeb",
   "metadata": {},
   "outputs": [
    {
     "data": {
      "text/plain": [
       "WORKED_HRS  CHECKUP1\n",
       "20 or less  1.0         0.710233\n",
       "            2.0         0.124958\n",
       "            3.0         0.075650\n",
       "            4.0         0.059777\n",
       "            7.0         0.016548\n",
       "            8.0         0.011820\n",
       "            9.0         0.001013\n",
       "21-40       1.0         0.694547\n",
       "            2.0         0.131579\n",
       "            3.0         0.078769\n",
       "            4.0         0.073066\n",
       "            7.0         0.012000\n",
       "            8.0         0.009564\n",
       "            9.0         0.000475\n",
       "41-60       1.0         0.676088\n",
       "            2.0         0.142833\n",
       "            4.0         0.081859\n",
       "            3.0         0.079846\n",
       "            7.0         0.009645\n",
       "            8.0         0.009394\n",
       "            9.0         0.000335\n",
       "61 +        1.0         0.644305\n",
       "            2.0         0.138031\n",
       "            4.0         0.105212\n",
       "            3.0         0.087355\n",
       "            8.0         0.018340\n",
       "            7.0         0.006274\n",
       "            9.0         0.000483\n",
       "unknown     1.0         0.659958\n",
       "            2.0         0.123941\n",
       "            4.0         0.090042\n",
       "            3.0         0.070975\n",
       "            7.0         0.030720\n",
       "            8.0         0.013771\n",
       "            9.0         0.010593\n",
       "Name: CHECKUP1, dtype: float64"
      ]
     },
     "execution_count": 162,
     "metadata": {},
     "output_type": "execute_result"
    }
   ],
   "source": [
    "health_small.groupby(['WORKED_HRS'])['CHECKUP1'].value_counts(normalize=True)"
   ]
  },
  {
   "cell_type": "markdown",
   "id": "f2992483",
   "metadata": {},
   "source": [
    "### Taking a look into likelihood of visiting a doctor based on ownership and pay"
   ]
  },
  {
   "cell_type": "markdown",
   "id": "c8f2e4d5",
   "metadata": {},
   "source": [
    "Below we see the percentages related to people who own and rent homes whether there was a time when they needed to see a doctor in the past 12 months but could not because of cost."
   ]
  },
  {
   "cell_type": "markdown",
   "id": "2c2f33d4",
   "metadata": {},
   "source": [
    "We can see that about 18% of renters could not see a doctor within the past year due to cost, compared to 7% of homeowners."
   ]
  },
  {
   "cell_type": "code",
   "execution_count": 163,
   "id": "a6ae61af",
   "metadata": {},
   "outputs": [
    {
     "data": {
      "text/plain": [
       "RENTHOM1  MEDCOST\n",
       "1.0       2.0        0.927963\n",
       "          1.0        0.070079\n",
       "          7.0        0.001547\n",
       "          9.0        0.000411\n",
       "2.0       2.0        0.818515\n",
       "          1.0        0.177259\n",
       "          7.0        0.003454\n",
       "          9.0        0.000772\n",
       "3.0       2.0        0.844752\n",
       "          1.0        0.150448\n",
       "          7.0        0.004024\n",
       "          9.0        0.000776\n",
       "7.0       2.0        0.848238\n",
       "          1.0        0.135501\n",
       "          7.0        0.014905\n",
       "          9.0        0.001355\n",
       "9.0       2.0        0.898129\n",
       "          1.0        0.087318\n",
       "          9.0        0.009563\n",
       "          7.0        0.004990\n",
       "Name: MEDCOST, dtype: float64"
      ]
     },
     "execution_count": 163,
     "metadata": {},
     "output_type": "execute_result"
    }
   ],
   "source": [
    "health.groupby(['RENTHOM1'])['MEDCOST'].value_counts(normalize=True)"
   ]
  },
  {
   "cell_type": "markdown",
   "id": "096464cf",
   "metadata": {},
   "source": [
    "Below we see the percentages related to people who are paid by salary, hourly, and in other ways and whether there was a time when they needed to see a doctor in the past 12 months but could not because of cost."
   ]
  },
  {
   "cell_type": "markdown",
   "id": "216b7657",
   "metadata": {},
   "source": [
    "The data shows that 13% of people who are paid hourly could not see a doctor within the past year due to cost, compared to the 6% of people who are paid by salary."
   ]
  },
  {
   "cell_type": "code",
   "execution_count": 5,
   "id": "ada68c1d",
   "metadata": {},
   "outputs": [
    {
     "data": {
      "text/plain": [
       "SCNTPAID  MEDCOST\n",
       "1.0       2.0        0.941158\n",
       "          1.0        0.057842\n",
       "          7.0        0.000923\n",
       "          9.0        0.000077\n",
       "2.0       2.0        0.866728\n",
       "          1.0        0.130642\n",
       "          7.0        0.002446\n",
       "          9.0        0.000183\n",
       "3.0       2.0        0.873502\n",
       "          1.0        0.123169\n",
       "          7.0        0.003329\n",
       "4.0       2.0        0.897215\n",
       "          1.0        0.099241\n",
       "          7.0        0.003544\n",
       "7.0       2.0        0.883721\n",
       "          1.0        0.098837\n",
       "          7.0        0.011628\n",
       "          9.0        0.005814\n",
       "9.0       2.0        0.901186\n",
       "          1.0        0.079051\n",
       "          9.0        0.015810\n",
       "          7.0        0.003953\n",
       "Name: MEDCOST, dtype: float64"
      ]
     },
     "execution_count": 5,
     "metadata": {},
     "output_type": "execute_result"
    }
   ],
   "source": [
    "health.groupby('SCNTPAID').MEDCOST.value_counts(normalize=True)"
   ]
  },
  {
   "cell_type": "markdown",
   "id": "016b99f4",
   "metadata": {},
   "source": [
    "#### Visualizations coming soon"
   ]
  },
  {
   "cell_type": "markdown",
   "id": "c6e07c45",
   "metadata": {},
   "source": [
    "### Key Takeaways and Conclusion"
   ]
  },
  {
   "cell_type": "markdown",
   "id": "566a0173",
   "metadata": {},
   "source": [
    "In conclusion, socioeconomic factors such as the amount of children in a home and how many hours a person is working can help us determine the likelihood of a customer/patient coming into a doctor's office.\n",
    "Furthermore, this can help us develop plans to accomodate the people who are least likely to come in and make it an easier and more affordable process, especially for the factors more effected by cost than time. "
   ]
  }
 ],
 "metadata": {
  "kernelspec": {
   "display_name": "Python 3 (ipykernel)",
   "language": "python",
   "name": "python3"
  },
  "language_info": {
   "codemirror_mode": {
    "name": "ipython",
    "version": 3
   },
   "file_extension": ".py",
   "mimetype": "text/x-python",
   "name": "python",
   "nbconvert_exporter": "python",
   "pygments_lexer": "ipython3",
   "version": "3.9.7"
  }
 },
 "nbformat": 4,
 "nbformat_minor": 5
}
